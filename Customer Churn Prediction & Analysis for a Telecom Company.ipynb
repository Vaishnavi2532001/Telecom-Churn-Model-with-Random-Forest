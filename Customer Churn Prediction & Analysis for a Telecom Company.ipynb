{
 "cells": [
  {
   "cell_type": "markdown",
   "id": "6dd856c2-7cd1-4d91-ae9b-e2a20348ad00",
   "metadata": {
    "panel-layout": {
     "height": 60.583335876464844,
     "visible": true,
     "width": 100
    }
   },
   "source": [
    "# Customer Churn Prediction & Analysis for a Telecom Company"
   ]
  },
  {
   "cell_type": "code",
   "execution_count": 3,
   "id": "8991244f-f2c5-4359-ad69-2c833d5e937d",
   "metadata": {},
   "outputs": [],
   "source": [
    "import pandas as pd \n",
    "import numpy as np \n",
    "import matplotlib.pyplot as plt \n",
    "import seaborn as sns"
   ]
  },
  {
   "cell_type": "code",
   "execution_count": 4,
   "id": "54d01da0-89f1-4c6a-bbaa-a80702acdbf9",
   "metadata": {},
   "outputs": [],
   "source": [
    "df = pd.read_csv('Telco-Customer-Churn.csv.csv')"
   ]
  },
  {
   "cell_type": "code",
   "execution_count": 5,
   "id": "7dbf92ef-4552-4050-ae73-83fb22fd550f",
   "metadata": {
    "panel-layout": {
     "height": 298.8888854980469,
     "visible": true,
     "width": 100
    }
   },
   "outputs": [
    {
     "data": {
      "text/html": [
       "<div>\n",
       "<style scoped>\n",
       "    .dataframe tbody tr th:only-of-type {\n",
       "        vertical-align: middle;\n",
       "    }\n",
       "\n",
       "    .dataframe tbody tr th {\n",
       "        vertical-align: top;\n",
       "    }\n",
       "\n",
       "    .dataframe thead th {\n",
       "        text-align: right;\n",
       "    }\n",
       "</style>\n",
       "<table border=\"1\" class=\"dataframe\">\n",
       "  <thead>\n",
       "    <tr style=\"text-align: right;\">\n",
       "      <th></th>\n",
       "      <th>customerID</th>\n",
       "      <th>gender</th>\n",
       "      <th>SeniorCitizen</th>\n",
       "      <th>Partner</th>\n",
       "      <th>Dependents</th>\n",
       "      <th>tenure</th>\n",
       "      <th>PhoneService</th>\n",
       "      <th>MultipleLines</th>\n",
       "      <th>InternetService</th>\n",
       "      <th>OnlineSecurity</th>\n",
       "      <th>...</th>\n",
       "      <th>DeviceProtection</th>\n",
       "      <th>TechSupport</th>\n",
       "      <th>StreamingTV</th>\n",
       "      <th>StreamingMovies</th>\n",
       "      <th>Contract</th>\n",
       "      <th>PaperlessBilling</th>\n",
       "      <th>PaymentMethod</th>\n",
       "      <th>MonthlyCharges</th>\n",
       "      <th>TotalCharges</th>\n",
       "      <th>Churn</th>\n",
       "    </tr>\n",
       "  </thead>\n",
       "  <tbody>\n",
       "    <tr>\n",
       "      <th>0</th>\n",
       "      <td>7590-VHVEG</td>\n",
       "      <td>Female</td>\n",
       "      <td>0</td>\n",
       "      <td>Yes</td>\n",
       "      <td>No</td>\n",
       "      <td>1</td>\n",
       "      <td>No</td>\n",
       "      <td>No phone service</td>\n",
       "      <td>DSL</td>\n",
       "      <td>No</td>\n",
       "      <td>...</td>\n",
       "      <td>No</td>\n",
       "      <td>No</td>\n",
       "      <td>No</td>\n",
       "      <td>No</td>\n",
       "      <td>Month-to-month</td>\n",
       "      <td>Yes</td>\n",
       "      <td>Electronic check</td>\n",
       "      <td>29.85</td>\n",
       "      <td>29.85</td>\n",
       "      <td>No</td>\n",
       "    </tr>\n",
       "    <tr>\n",
       "      <th>1</th>\n",
       "      <td>5575-GNVDE</td>\n",
       "      <td>Male</td>\n",
       "      <td>0</td>\n",
       "      <td>No</td>\n",
       "      <td>No</td>\n",
       "      <td>34</td>\n",
       "      <td>Yes</td>\n",
       "      <td>No</td>\n",
       "      <td>DSL</td>\n",
       "      <td>Yes</td>\n",
       "      <td>...</td>\n",
       "      <td>Yes</td>\n",
       "      <td>No</td>\n",
       "      <td>No</td>\n",
       "      <td>No</td>\n",
       "      <td>One year</td>\n",
       "      <td>No</td>\n",
       "      <td>Mailed check</td>\n",
       "      <td>56.95</td>\n",
       "      <td>1889.5</td>\n",
       "      <td>No</td>\n",
       "    </tr>\n",
       "    <tr>\n",
       "      <th>2</th>\n",
       "      <td>3668-QPYBK</td>\n",
       "      <td>Male</td>\n",
       "      <td>0</td>\n",
       "      <td>No</td>\n",
       "      <td>No</td>\n",
       "      <td>2</td>\n",
       "      <td>Yes</td>\n",
       "      <td>No</td>\n",
       "      <td>DSL</td>\n",
       "      <td>Yes</td>\n",
       "      <td>...</td>\n",
       "      <td>No</td>\n",
       "      <td>No</td>\n",
       "      <td>No</td>\n",
       "      <td>No</td>\n",
       "      <td>Month-to-month</td>\n",
       "      <td>Yes</td>\n",
       "      <td>Mailed check</td>\n",
       "      <td>53.85</td>\n",
       "      <td>108.15</td>\n",
       "      <td>Yes</td>\n",
       "    </tr>\n",
       "    <tr>\n",
       "      <th>3</th>\n",
       "      <td>7795-CFOCW</td>\n",
       "      <td>Male</td>\n",
       "      <td>0</td>\n",
       "      <td>No</td>\n",
       "      <td>No</td>\n",
       "      <td>45</td>\n",
       "      <td>No</td>\n",
       "      <td>No phone service</td>\n",
       "      <td>DSL</td>\n",
       "      <td>Yes</td>\n",
       "      <td>...</td>\n",
       "      <td>Yes</td>\n",
       "      <td>Yes</td>\n",
       "      <td>No</td>\n",
       "      <td>No</td>\n",
       "      <td>One year</td>\n",
       "      <td>No</td>\n",
       "      <td>Bank transfer (automatic)</td>\n",
       "      <td>42.30</td>\n",
       "      <td>1840.75</td>\n",
       "      <td>No</td>\n",
       "    </tr>\n",
       "    <tr>\n",
       "      <th>4</th>\n",
       "      <td>9237-HQITU</td>\n",
       "      <td>Female</td>\n",
       "      <td>0</td>\n",
       "      <td>No</td>\n",
       "      <td>No</td>\n",
       "      <td>2</td>\n",
       "      <td>Yes</td>\n",
       "      <td>No</td>\n",
       "      <td>Fiber optic</td>\n",
       "      <td>No</td>\n",
       "      <td>...</td>\n",
       "      <td>No</td>\n",
       "      <td>No</td>\n",
       "      <td>No</td>\n",
       "      <td>No</td>\n",
       "      <td>Month-to-month</td>\n",
       "      <td>Yes</td>\n",
       "      <td>Electronic check</td>\n",
       "      <td>70.70</td>\n",
       "      <td>151.65</td>\n",
       "      <td>Yes</td>\n",
       "    </tr>\n",
       "  </tbody>\n",
       "</table>\n",
       "<p>5 rows × 21 columns</p>\n",
       "</div>"
      ],
      "text/plain": [
       "   customerID  gender  SeniorCitizen Partner Dependents  tenure PhoneService  \\\n",
       "0  7590-VHVEG  Female              0     Yes         No       1           No   \n",
       "1  5575-GNVDE    Male              0      No         No      34          Yes   \n",
       "2  3668-QPYBK    Male              0      No         No       2          Yes   \n",
       "3  7795-CFOCW    Male              0      No         No      45           No   \n",
       "4  9237-HQITU  Female              0      No         No       2          Yes   \n",
       "\n",
       "      MultipleLines InternetService OnlineSecurity  ... DeviceProtection  \\\n",
       "0  No phone service             DSL             No  ...               No   \n",
       "1                No             DSL            Yes  ...              Yes   \n",
       "2                No             DSL            Yes  ...               No   \n",
       "3  No phone service             DSL            Yes  ...              Yes   \n",
       "4                No     Fiber optic             No  ...               No   \n",
       "\n",
       "  TechSupport StreamingTV StreamingMovies        Contract PaperlessBilling  \\\n",
       "0          No          No              No  Month-to-month              Yes   \n",
       "1          No          No              No        One year               No   \n",
       "2          No          No              No  Month-to-month              Yes   \n",
       "3         Yes          No              No        One year               No   \n",
       "4          No          No              No  Month-to-month              Yes   \n",
       "\n",
       "               PaymentMethod MonthlyCharges  TotalCharges Churn  \n",
       "0           Electronic check          29.85         29.85    No  \n",
       "1               Mailed check          56.95        1889.5    No  \n",
       "2               Mailed check          53.85        108.15   Yes  \n",
       "3  Bank transfer (automatic)          42.30       1840.75    No  \n",
       "4           Electronic check          70.70        151.65   Yes  \n",
       "\n",
       "[5 rows x 21 columns]"
      ]
     },
     "execution_count": 5,
     "metadata": {},
     "output_type": "execute_result"
    }
   ],
   "source": [
    "df.head(5)"
   ]
  },
  {
   "cell_type": "code",
   "execution_count": 14,
   "id": "a0f6de6d-c473-4680-9fbb-b35663a07002",
   "metadata": {
    "panel-layout": {
     "height": 112.83333587646484,
     "visible": true,
     "width": 100
    }
   },
   "outputs": [
    {
     "data": {
      "text/plain": [
       "Index(['customerID', 'gender', 'SeniorCitizen', 'Partner', 'Dependents',\n",
       "       'tenure', 'PhoneService', 'MultipleLines', 'InternetService',\n",
       "       'OnlineSecurity', 'OnlineBackup', 'DeviceProtection', 'TechSupport',\n",
       "       'StreamingTV', 'StreamingMovies', 'Contract', 'PaperlessBilling',\n",
       "       'PaymentMethod', 'MonthlyCharges', 'TotalCharges', 'Churn'],\n",
       "      dtype='object')"
      ]
     },
     "execution_count": 14,
     "metadata": {},
     "output_type": "execute_result"
    }
   ],
   "source": [
    "df.columns"
   ]
  },
  {
   "cell_type": "code",
   "execution_count": 6,
   "id": "325447b4-eb67-4558-9fbe-3c21479593dc",
   "metadata": {
    "panel-layout": {
     "height": 0,
     "visible": true,
     "width": 100
    }
   },
   "outputs": [
    {
     "name": "stdout",
     "output_type": "stream",
     "text": [
      "<class 'pandas.core.frame.DataFrame'>\n",
      "RangeIndex: 7043 entries, 0 to 7042\n",
      "Data columns (total 21 columns):\n",
      " #   Column            Non-Null Count  Dtype  \n",
      "---  ------            --------------  -----  \n",
      " 0   customerID        7043 non-null   object \n",
      " 1   gender            7043 non-null   object \n",
      " 2   SeniorCitizen     7043 non-null   int64  \n",
      " 3   Partner           7043 non-null   object \n",
      " 4   Dependents        7043 non-null   object \n",
      " 5   tenure            7043 non-null   int64  \n",
      " 6   PhoneService      7043 non-null   object \n",
      " 7   MultipleLines     7043 non-null   object \n",
      " 8   InternetService   7043 non-null   object \n",
      " 9   OnlineSecurity    7043 non-null   object \n",
      " 10  OnlineBackup      7043 non-null   object \n",
      " 11  DeviceProtection  7043 non-null   object \n",
      " 12  TechSupport       7043 non-null   object \n",
      " 13  StreamingTV       7043 non-null   object \n",
      " 14  StreamingMovies   7043 non-null   object \n",
      " 15  Contract          7043 non-null   object \n",
      " 16  PaperlessBilling  7043 non-null   object \n",
      " 17  PaymentMethod     7043 non-null   object \n",
      " 18  MonthlyCharges    7043 non-null   float64\n",
      " 19  TotalCharges      7043 non-null   object \n",
      " 20  Churn             7043 non-null   object \n",
      "dtypes: float64(1), int64(2), object(18)\n",
      "memory usage: 1.1+ MB\n"
     ]
    }
   ],
   "source": [
    "df.info()"
   ]
  },
  {
   "cell_type": "markdown",
   "id": "ed45d79e-2501-4ce4-ab86-149bc2ac6519",
   "metadata": {
    "panel-layout": {
     "height": 60.583335876464844,
     "visible": true,
     "width": 100
    }
   },
   "source": [
    "# DATA CLEANING "
   ]
  },
  {
   "cell_type": "code",
   "execution_count": 15,
   "id": "91f838ca-2eec-4952-843c-6a0927d83f76",
   "metadata": {
    "panel-layout": {
     "height": 27.13888931274414,
     "visible": true,
     "width": 100
    }
   },
   "outputs": [
    {
     "data": {
      "text/plain": [
       "False"
      ]
     },
     "execution_count": 15,
     "metadata": {},
     "output_type": "execute_result"
    }
   ],
   "source": [
    "# No Null values present in data \n",
    "df.isnull().values.any()"
   ]
  },
  {
   "cell_type": "code",
   "execution_count": 26,
   "id": "9e1cfc2c-e7ca-4021-8a60-58b85eb68560",
   "metadata": {
    "panel-layout": {
     "height": 27.13888931274414,
     "visible": true,
     "width": 100
    }
   },
   "outputs": [
    {
     "data": {
      "text/plain": [
       "0"
      ]
     },
     "execution_count": 26,
     "metadata": {},
     "output_type": "execute_result"
    }
   ],
   "source": [
    "df.duplicated().sum()"
   ]
  },
  {
   "cell_type": "code",
   "execution_count": 24,
   "id": "8172610f-b541-441e-89d5-dcb1ba6c8a17",
   "metadata": {
    "panel-layout": {
     "height": 587.7777709960938,
     "visible": true,
     "width": 100
    }
   },
   "outputs": [
    {
     "data": {
      "text/plain": [
       "customerID           object\n",
       "gender               object\n",
       "SeniorCitizen         int64\n",
       "Partner              object\n",
       "Dependents           object\n",
       "tenure                int64\n",
       "PhoneService         object\n",
       "MultipleLines        object\n",
       "InternetService      object\n",
       "OnlineSecurity       object\n",
       "OnlineBackup         object\n",
       "DeviceProtection     object\n",
       "TechSupport          object\n",
       "StreamingTV          object\n",
       "StreamingMovies      object\n",
       "Contract             object\n",
       "PaperlessBilling     object\n",
       "PaymentMethod        object\n",
       "MonthlyCharges      float64\n",
       "TotalCharges        float64\n",
       "Churn                object\n",
       "dtype: object"
      ]
     },
     "execution_count": 24,
     "metadata": {},
     "output_type": "execute_result"
    }
   ],
   "source": [
    "df.dtypes"
   ]
  },
  {
   "cell_type": "code",
   "execution_count": 28,
   "id": "0bc45759-a0e8-462f-95a7-464e19ed65a8",
   "metadata": {},
   "outputs": [],
   "source": [
    "df['TotalCharges'] = pd.to_numeric(df['TotalCharges'], errors='coerce')\n"
   ]
  },
  {
   "cell_type": "code",
   "execution_count": 32,
   "id": "76622192-849f-4e67-89d6-2662f608e656",
   "metadata": {
    "panel-layout": {
     "height": 0,
     "visible": true,
     "width": 100
    }
   },
   "outputs": [
    {
     "name": "stdout",
     "output_type": "stream",
     "text": [
      "tenure            0\n",
      "MonthlyCharges    0\n",
      "TotalCharges      0\n",
      "dtype: int64\n"
     ]
    }
   ],
   "source": [
    "from scipy import stats\n",
    "numeric_cols = ['tenure', 'MonthlyCharges', 'TotalCharges']\n",
    "\n",
    "z_scores = np.abs(stats.zscore(df[numeric_cols]))\n",
    "df_outliers = df[(z_scores > 3).any(axis=1)]  # Rows with outliers in any column\n",
    "print((z_scores > 3).sum())\n"
   ]
  },
  {
   "cell_type": "code",
   "execution_count": null,
   "id": "ed4674ab-089b-4118-8fb3-68d1a1504631",
   "metadata": {},
   "outputs": [],
   "source": [
    "# Data is clean and outlier free: "
   ]
  },
  {
   "cell_type": "markdown",
   "id": "2b54a5c0-f9cc-41d7-b569-d3135d27ad3a",
   "metadata": {
    "panel-layout": {
     "height": 60.583335876464844,
     "visible": true,
     "width": 100
    }
   },
   "source": [
    "# EDA Part "
   ]
  },
  {
   "cell_type": "markdown",
   "id": "cf2b3ce4-20ec-4983-a777-fa19aa7c761c",
   "metadata": {
    "panel-layout": {
     "height": 44.08333206176758,
     "visible": true,
     "width": 100
    }
   },
   "source": [
    "### 1. Churn Count"
   ]
  },
  {
   "cell_type": "code",
   "execution_count": 44,
   "id": "648c953c-2cfe-4999-a156-279cd928475d",
   "metadata": {
    "panel-layout": {
     "height": 701,
     "visible": true,
     "width": 100
    }
   },
   "outputs": [
    {
     "data": {
      "image/png": "[encoded data removed]",
      "text/plain": [
       "<Figure size 640x480 with 1 Axes>"
      ]
     },
     "metadata": {},
     "output_type": "display_data"
    }
   ],
   "source": [
    "import seaborn as sns\n",
    "import matplotlib.pyplot as plt\n",
    "\n",
    "sns.countplot(x = 'Churn', data = df, color = 'orange')\n",
    "plt.title('Churn Count')\n",
    "plt.show()"
   ]
  },
  {
   "cell_type": "code",
   "execution_count": 40,
   "id": "4a4429b2-2ab1-4c5b-8843-edab8f079cd7",
   "metadata": {
    "panel-layout": {
     "height": 816.7777709960938,
     "visible": true,
     "width": 100
    }
   },
   "outputs": [
    {
     "data": {
      "text/plain": [
       "Churn\n",
       "No     5174\n",
       "Yes    1869\n",
       "Name: count, dtype: int64"
      ]
     },
     "execution_count": 40,
     "metadata": {},
     "output_type": "execute_result"
    }
   ],
   "source": [
    "df['Churn'].value_counts()"
   ]
  },
  {
   "cell_type": "markdown",
   "id": "4aa31ac8-a9ac-4c0a-a0ce-7038ad7fb037",
   "metadata": {
    "panel-layout": {
     "height": 93.52777862548828,
     "visible": true,
     "width": 100
    }
   },
   "source": [
    "#### Out of 7043 total customers,\n",
    "#### 5174 (73.5%) have not churned (still active)\n",
    "#### 1869 (26.5%) have churned"
   ]
  },
  {
   "cell_type": "markdown",
   "id": "0b347ae9-038c-41a1-9873-36133282702f",
   "metadata": {
    "panel-layout": {
     "height": 50.8194465637207,
     "visible": true,
     "width": 100
    }
   },
   "source": [
    "## Tenure Distribution by Churn"
   ]
  },
  {
   "cell_type": "code",
   "execution_count": null,
   "id": "7433e8c3-7a93-4a06-964f-312b8a6e3bed",
   "metadata": {},
   "outputs": [],
   "source": [
    "# Tenure is a strong churn predictor\n",
    "# Retention strategies should focus on new customers (first 3–12 months)\n",
    "# Offers, support, or engagement early in the customer journey can reduce churn"
   ]
  },
  {
   "cell_type": "code",
   "execution_count": 48,
   "id": "e6d16473-57dd-4bc4-8ca1-5383088dc31f",
   "metadata": {
    "panel-layout": {
     "height": 701,
     "visible": true,
     "width": 100
    }
   },
   "outputs": [
    {
     "data": {
      "image/png": "[encoded data removed]",
      "text/plain": [
       "<Figure size 640x480 with 1 Axes>"
      ]
     },
     "metadata": {},
     "output_type": "display_data"
    }
   ],
   "source": [
    "sns.histplot(data=df, x='tenure', hue = 'Churn', multiple = 'stack', bins = 30 )\n",
    "plt.title('Tenure Distribution by Churn')\n",
    "plt.xlabel('Tenure (month)')\n",
    "plt.ylabel('Churn (Customer)')\n",
    "plt.show()"
   ]
  },
  {
   "cell_type": "markdown",
   "id": "94f4e649-0b65-44f2-96d5-b4e419205e29",
   "metadata": {
    "panel-layout": {
     "height": 44.08333206176758,
     "visible": true,
     "width": 100
    }
   },
   "source": [
    "### Monthly Charges Analysis "
   ]
  },
  {
   "cell_type": "code",
   "execution_count": 51,
   "id": "df8dd669-24da-46db-b906-397644dd2074",
   "metadata": {},
   "outputs": [],
   "source": [
    "Monthly_analysis = df.groupby('Churn')['MonthlyCharges'].value_counts()"
   ]
  },
  {
   "cell_type": "code",
   "execution_count": 52,
   "id": "e0654dfc-cd12-4b0d-9a04-da2396126226",
   "metadata": {
    "panel-layout": {
     "height": 62911,
     "visible": true,
     "width": 100
    }
   },
   "outputs": [
    {
     "data": {
      "text/plain": [
       "Churn  MonthlyCharges\n",
       "No     20.05             58\n",
       "       19.70             41\n",
       "       19.95             41\n",
       "       19.85             40\n",
       "       19.90             40\n",
       "                         ..\n",
       "Yes    115.65             1\n",
       "       116.20             1\n",
       "       117.45             1\n",
       "       117.80             1\n",
       "       118.35             1\n",
       "Name: count, Length: 2370, dtype: int64"
      ]
     },
     "execution_count": 52,
     "metadata": {},
     "output_type": "execute_result"
    }
   ],
   "source": [
    "Monthly_analysis"
   ]
  },
  {
   "cell_type": "code",
   "execution_count": null,
   "id": "6363e389-f88c-44e8-bc48-5215fd386f7f",
   "metadata": {},
   "outputs": [],
   "source": [
    "# Higher MonthlyCharges are associated with increased churn risk.\n",
    "#  Low-paying customers are more likely to stay.\n",
    "#  High-paying churners are a warning sign — possibly unhappy premium users.\n",
    "#  Pricing strategy directly affects customer retention."
   ]
  },
  {
   "cell_type": "markdown",
   "id": "17295d30-f5e3-4223-8784-d2e974691cc4",
   "metadata": {
    "panel-layout": {
     "height": 119.69444274902344,
     "visible": true,
     "width": 100
    }
   },
   "source": [
    "sns.boxplot(y = 'MonthlyCharges', x = 'Churn', data = df)\n",
    "plt.title(\"Monthly Charges by Churn\")\n",
    "plt.xlabel('Churn')\n",
    "plt.ylabel('MonthlyCharges')\n",
    "plt.show()"
   ]
  },
  {
   "cell_type": "markdown",
   "id": "c1b274db-7da7-408b-8930-ebe6f6ec7f31",
   "metadata": {
    "panel-layout": {
     "height": 44.08333206176758,
     "visible": true,
     "width": 100
    }
   },
   "source": [
    "### Churn by Contract Type"
   ]
  },
  {
   "cell_type": "code",
   "execution_count": 55,
   "id": "3f0f4f41-1e5a-4dfc-b377-7edab87f364a",
   "metadata": {},
   "outputs": [],
   "source": [
    "Contract_analyse = df.groupby('Churn')['Contract'].value_counts()"
   ]
  },
  {
   "cell_type": "code",
   "execution_count": 56,
   "id": "4a94db7e-57bb-4698-b73d-73f7a1f4f227",
   "metadata": {
    "panel-layout": {
     "height": 921.6666870117188,
     "visible": true,
     "width": 100
    }
   },
   "outputs": [
    {
     "data": {
      "text/plain": [
       "Churn  Contract      \n",
       "No     Month-to-month    2220\n",
       "       Two year          1647\n",
       "       One year          1307\n",
       "Yes    Month-to-month    1655\n",
       "       One year           166\n",
       "       Two year            48\n",
       "Name: count, dtype: int64"
      ]
     },
     "execution_count": 56,
     "metadata": {},
     "output_type": "execute_result"
    }
   ],
   "source": [
    "Contract_analyse"
   ]
  },
  {
   "cell_type": "markdown",
   "id": "a7f433b1-aa6f-40d2-98a8-99dd07cf0787",
   "metadata": {
    "panel-layout": {
     "height": 44.08333206176758,
     "visible": true,
     "width": 100
    }
   },
   "source": [
    "### Churn by Internet Service"
   ]
  },
  {
   "cell_type": "code",
   "execution_count": 57,
   "id": "d856ee98-f41f-4d12-95ed-c09b8fb45750",
   "metadata": {},
   "outputs": [],
   "source": [
    "Internetservice_count = df.groupby('Churn')['InternetService'].value_counts()"
   ]
  },
  {
   "cell_type": "code",
   "execution_count": 58,
   "id": "23d7d5f1-afe4-4883-9742-7a4f262deeac",
   "metadata": {
    "panel-layout": {
     "height": 921.6666870117188,
     "visible": true,
     "width": 100
    }
   },
   "outputs": [
    {
     "data": {
      "text/plain": [
       "Churn  InternetService\n",
       "No     DSL                1962\n",
       "       Fiber optic        1799\n",
       "       No                 1413\n",
       "Yes    Fiber optic        1297\n",
       "       DSL                 459\n",
       "       No                  113\n",
       "Name: count, dtype: int64"
      ]
     },
     "execution_count": 58,
     "metadata": {},
     "output_type": "execute_result"
    }
   ],
   "source": [
    "Internetservice_count"
   ]
  },
  {
   "cell_type": "code",
   "execution_count": null,
   "id": "b2d9caf7-51d7-430c-8efd-c7a5fcd70195",
   "metadata": {},
   "outputs": [],
   "source": [
    "# DSL retains better — could be promoted as a more stable option \n",
    "\n",
    "# Fiber optic customers churn the most\n",
    "# Out of 3,096 fiber optic users, 1297 have churned\n",
    "# This is more than double the DSL churn rate\n",
    "# Fiber optic needs immediate churn intervention (e.g., satisfaction surveys, plan revisions)."
   ]
  },
  {
   "cell_type": "markdown",
   "id": "9c858cc9-4bb7-43c7-b6ba-a6a0aa49890a",
   "metadata": {
    "panel-layout": {
     "height": 44.08333206176758,
     "visible": true,
     "width": 100
    }
   },
   "source": [
    "### Gender wise churn "
   ]
  },
  {
   "cell_type": "code",
   "execution_count": 60,
   "id": "0a23bc46-e702-4ded-ae05-4c7682028673",
   "metadata": {},
   "outputs": [],
   "source": [
    "gender_count = df.groupby('Churn')['gender'].value_counts()"
   ]
  },
  {
   "cell_type": "code",
   "execution_count": 61,
   "id": "2af8b80c-3eb3-4271-9714-81c2cea35e40",
   "metadata": {
    "panel-layout": {
     "height": 869.2222290039062,
     "visible": true,
     "width": 100
    }
   },
   "outputs": [
    {
     "data": {
      "text/plain": [
       "Churn  gender\n",
       "No     Male      2625\n",
       "       Female    2549\n",
       "Yes    Female     939\n",
       "       Male       930\n",
       "Name: count, dtype: int64"
      ]
     },
     "execution_count": 61,
     "metadata": {},
     "output_type": "execute_result"
    }
   ],
   "source": [
    "gender_count"
   ]
  },
  {
   "cell_type": "code",
   "execution_count": 63,
   "id": "70818aef-a421-4412-8fbf-76ba01303630",
   "metadata": {},
   "outputs": [],
   "source": [
    "# Churn rates are nearly identical across genders\n",
    "# Male churn rate: 26.4%\n",
    "# Female churn rate: 26.6%\n",
    "# Insight: Gender does not appear to significantly influence churn behavior."
   ]
  },
  {
   "cell_type": "markdown",
   "id": "1cb76a3f-b0aa-4b90-b956-fe050fe1969d",
   "metadata": {
    "panel-layout": {
     "height": 60.583335876464844,
     "visible": true,
     "width": 100
    }
   },
   "source": [
    "# Model  Building and Encoding Part: "
   ]
  },
  {
   "cell_type": "markdown",
   "id": "7ecf2bda-716e-4f7f-add6-841f6b6acc11",
   "metadata": {
    "panel-layout": {
     "height": 43.1944465637207,
     "visible": true,
     "width": 100
    }
   },
   "source": [
    "#### Encoding "
   ]
  },
  {
   "cell_type": "code",
   "execution_count": 75,
   "id": "a31c9e56-1ba6-494b-a894-add305d8c0b3",
   "metadata": {},
   "outputs": [],
   "source": [
    "df_original = df.copy()  # BEFORE encoding"
   ]
  },
  {
   "cell_type": "code",
   "execution_count": 76,
   "id": "cb5cc7b3-19dd-4fb2-b963-e7a5f4152662",
   "metadata": {
    "panel-layout": {
     "height": 999.888916015625,
     "visible": true,
     "width": 100
    }
   },
   "outputs": [
    {
     "data": {
      "text/html": [
       "<div>\n",
       "<style scoped>\n",
       "    .dataframe tbody tr th:only-of-type {\n",
       "        vertical-align: middle;\n",
       "    }\n",
       "\n",
       "    .dataframe tbody tr th {\n",
       "        vertical-align: top;\n",
       "    }\n",
       "\n",
       "    .dataframe thead th {\n",
       "        text-align: right;\n",
       "    }\n",
       "</style>\n",
       "<table border=\"1\" class=\"dataframe\">\n",
       "  <thead>\n",
       "    <tr style=\"text-align: right;\">\n",
       "      <th></th>\n",
       "      <th>gender</th>\n",
       "      <th>SeniorCitizen</th>\n",
       "      <th>Partner</th>\n",
       "      <th>Dependents</th>\n",
       "      <th>tenure</th>\n",
       "      <th>PhoneService</th>\n",
       "      <th>MultipleLines</th>\n",
       "      <th>InternetService</th>\n",
       "      <th>OnlineSecurity</th>\n",
       "      <th>OnlineBackup</th>\n",
       "      <th>DeviceProtection</th>\n",
       "      <th>TechSupport</th>\n",
       "      <th>StreamingTV</th>\n",
       "      <th>StreamingMovies</th>\n",
       "      <th>Contract</th>\n",
       "      <th>PaperlessBilling</th>\n",
       "      <th>PaymentMethod</th>\n",
       "      <th>MonthlyCharges</th>\n",
       "      <th>TotalCharges</th>\n",
       "      <th>Churn</th>\n",
       "    </tr>\n",
       "  </thead>\n",
       "  <tbody>\n",
       "    <tr>\n",
       "      <th>0</th>\n",
       "      <td>0</td>\n",
       "      <td>0</td>\n",
       "      <td>1</td>\n",
       "      <td>0</td>\n",
       "      <td>1</td>\n",
       "      <td>0</td>\n",
       "      <td>No phone service</td>\n",
       "      <td>DSL</td>\n",
       "      <td>0</td>\n",
       "      <td>Yes</td>\n",
       "      <td>0</td>\n",
       "      <td>0</td>\n",
       "      <td>0</td>\n",
       "      <td>0</td>\n",
       "      <td>Month-to-month</td>\n",
       "      <td>1</td>\n",
       "      <td>Electronic check</td>\n",
       "      <td>29.85</td>\n",
       "      <td>29.85</td>\n",
       "      <td>No</td>\n",
       "    </tr>\n",
       "    <tr>\n",
       "      <th>1</th>\n",
       "      <td>1</td>\n",
       "      <td>0</td>\n",
       "      <td>0</td>\n",
       "      <td>0</td>\n",
       "      <td>34</td>\n",
       "      <td>1</td>\n",
       "      <td>No</td>\n",
       "      <td>DSL</td>\n",
       "      <td>2</td>\n",
       "      <td>No</td>\n",
       "      <td>2</td>\n",
       "      <td>0</td>\n",
       "      <td>0</td>\n",
       "      <td>0</td>\n",
       "      <td>One year</td>\n",
       "      <td>0</td>\n",
       "      <td>Mailed check</td>\n",
       "      <td>56.95</td>\n",
       "      <td>1889.50</td>\n",
       "      <td>No</td>\n",
       "    </tr>\n",
       "    <tr>\n",
       "      <th>2</th>\n",
       "      <td>1</td>\n",
       "      <td>0</td>\n",
       "      <td>0</td>\n",
       "      <td>0</td>\n",
       "      <td>2</td>\n",
       "      <td>1</td>\n",
       "      <td>No</td>\n",
       "      <td>DSL</td>\n",
       "      <td>2</td>\n",
       "      <td>Yes</td>\n",
       "      <td>0</td>\n",
       "      <td>0</td>\n",
       "      <td>0</td>\n",
       "      <td>0</td>\n",
       "      <td>Month-to-month</td>\n",
       "      <td>1</td>\n",
       "      <td>Mailed check</td>\n",
       "      <td>53.85</td>\n",
       "      <td>108.15</td>\n",
       "      <td>Yes</td>\n",
       "    </tr>\n",
       "    <tr>\n",
       "      <th>3</th>\n",
       "      <td>1</td>\n",
       "      <td>0</td>\n",
       "      <td>0</td>\n",
       "      <td>0</td>\n",
       "      <td>45</td>\n",
       "      <td>0</td>\n",
       "      <td>No phone service</td>\n",
       "      <td>DSL</td>\n",
       "      <td>2</td>\n",
       "      <td>No</td>\n",
       "      <td>2</td>\n",
       "      <td>2</td>\n",
       "      <td>0</td>\n",
       "      <td>0</td>\n",
       "      <td>One year</td>\n",
       "      <td>0</td>\n",
       "      <td>Bank transfer (automatic)</td>\n",
       "      <td>42.30</td>\n",
       "      <td>1840.75</td>\n",
       "      <td>No</td>\n",
       "    </tr>\n",
       "    <tr>\n",
       "      <th>4</th>\n",
       "      <td>0</td>\n",
       "      <td>0</td>\n",
       "      <td>0</td>\n",
       "      <td>0</td>\n",
       "      <td>2</td>\n",
       "      <td>1</td>\n",
       "      <td>No</td>\n",
       "      <td>Fiber optic</td>\n",
       "      <td>0</td>\n",
       "      <td>No</td>\n",
       "      <td>0</td>\n",
       "      <td>0</td>\n",
       "      <td>0</td>\n",
       "      <td>0</td>\n",
       "      <td>Month-to-month</td>\n",
       "      <td>1</td>\n",
       "      <td>Electronic check</td>\n",
       "      <td>70.70</td>\n",
       "      <td>151.65</td>\n",
       "      <td>Yes</td>\n",
       "    </tr>\n",
       "  </tbody>\n",
       "</table>\n",
       "</div>"
      ],
      "text/plain": [
       "   gender  SeniorCitizen  Partner  Dependents  tenure  PhoneService  \\\n",
       "0       0              0        1           0       1             0   \n",
       "1       1              0        0           0      34             1   \n",
       "2       1              0        0           0       2             1   \n",
       "3       1              0        0           0      45             0   \n",
       "4       0              0        0           0       2             1   \n",
       "\n",
       "      MultipleLines InternetService  OnlineSecurity OnlineBackup  \\\n",
       "0  No phone service             DSL               0          Yes   \n",
       "1                No             DSL               2           No   \n",
       "2                No             DSL               2          Yes   \n",
       "3  No phone service             DSL               2           No   \n",
       "4                No     Fiber optic               0           No   \n",
       "\n",
       "   DeviceProtection  TechSupport  StreamingTV  StreamingMovies  \\\n",
       "0                 0            0            0                0   \n",
       "1                 2            0            0                0   \n",
       "2                 0            0            0                0   \n",
       "3                 2            2            0                0   \n",
       "4                 0            0            0                0   \n",
       "\n",
       "         Contract  PaperlessBilling              PaymentMethod  \\\n",
       "0  Month-to-month                 1           Electronic check   \n",
       "1        One year                 0               Mailed check   \n",
       "2  Month-to-month                 1               Mailed check   \n",
       "3        One year                 0  Bank transfer (automatic)   \n",
       "4  Month-to-month                 1           Electronic check   \n",
       "\n",
       "   MonthlyCharges  TotalCharges Churn  \n",
       "0           29.85         29.85    No  \n",
       "1           56.95       1889.50    No  \n",
       "2           53.85        108.15   Yes  \n",
       "3           42.30       1840.75    No  \n",
       "4           70.70        151.65   Yes  "
      ]
     },
     "execution_count": 76,
     "metadata": {},
     "output_type": "execute_result"
    }
   ],
   "source": [
    "df_original.head(5)"
   ]
  },
  {
   "cell_type": "code",
   "execution_count": 66,
   "id": "a3a52a6c-7681-4a95-8cab-2f81f8e2a5be",
   "metadata": {},
   "outputs": [
    {
     "name": "stdout",
     "output_type": "stream",
     "text": [
      "<class 'pandas.core.frame.DataFrame'>\n",
      "RangeIndex: 7043 entries, 0 to 7042\n",
      "Data columns (total 20 columns):\n",
      " #   Column            Non-Null Count  Dtype  \n",
      "---  ------            --------------  -----  \n",
      " 0   gender            7043 non-null   object \n",
      " 1   SeniorCitizen     7043 non-null   int64  \n",
      " 2   Partner           7043 non-null   object \n",
      " 3   Dependents        7043 non-null   object \n",
      " 4   tenure            7043 non-null   int64  \n",
      " 5   PhoneService      7043 non-null   object \n",
      " 6   MultipleLines     7043 non-null   object \n",
      " 7   InternetService   7043 non-null   object \n",
      " 8   OnlineSecurity    7043 non-null   object \n",
      " 9   OnlineBackup      7043 non-null   object \n",
      " 10  DeviceProtection  7043 non-null   object \n",
      " 11  TechSupport       7043 non-null   object \n",
      " 12  StreamingTV       7043 non-null   object \n",
      " 13  StreamingMovies   7043 non-null   object \n",
      " 14  Contract          7043 non-null   object \n",
      " 15  PaperlessBilling  7043 non-null   object \n",
      " 16  PaymentMethod     7043 non-null   object \n",
      " 17  MonthlyCharges    7043 non-null   float64\n",
      " 18  TotalCharges      7032 non-null   float64\n",
      " 19  Churn             7043 non-null   object \n",
      "dtypes: float64(2), int64(2), object(16)\n",
      "memory usage: 1.1+ MB\n"
     ]
    }
   ],
   "source": [
    "df.info()\n",
    "# need to convert all obj variable to bool "
   ]
  },
  {
   "cell_type": "code",
   "execution_count": 65,
   "id": "9e2cdd2f-7e41-4107-a9f5-1ed91e4911ca",
   "metadata": {
    "panel-layout": {
     "height": 701,
     "visible": true,
     "width": 100
    }
   },
   "outputs": [],
   "source": [
    "# Removing unnecessary columns\n",
    "df.drop('customerID', axis = 1, inplace= True )"
   ]
  },
  {
   "cell_type": "code",
   "execution_count": 125,
   "id": "77a7bde0-8c8e-4983-bb4b-3833fc5c6b54",
   "metadata": {
    "panel-layout": {
     "height": 701,
     "visible": true,
     "width": 100
    }
   },
   "outputs": [
    {
     "name": "stdout",
     "output_type": "stream",
     "text": [
      "<class 'pandas.core.frame.DataFrame'>\n",
      "Index: 7032 entries, 0 to 7042\n",
      "Data columns (total 31 columns):\n",
      " #   Column                                 Non-Null Count  Dtype  \n",
      "---  ------                                 --------------  -----  \n",
      " 0   gender                                 7032 non-null   int64  \n",
      " 1   SeniorCitizen                          7032 non-null   int64  \n",
      " 2   Partner                                7032 non-null   int64  \n",
      " 3   Dependents                             7032 non-null   int64  \n",
      " 4   tenure                                 7032 non-null   int64  \n",
      " 5   PhoneService                           7032 non-null   int64  \n",
      " 6   PaperlessBilling                       7032 non-null   int32  \n",
      " 7   MonthlyCharges                         7032 non-null   float64\n",
      " 8   TotalCharges                           7032 non-null   float64\n",
      " 9   Churn                                  7032 non-null   int64  \n",
      " 10  MultipleLines_No phone service         7032 non-null   bool   \n",
      " 11  MultipleLines_Yes                      7032 non-null   bool   \n",
      " 12  InternetService_Fiber optic            7032 non-null   bool   \n",
      " 13  InternetService_No                     7032 non-null   bool   \n",
      " 14  OnlineSecurity_1                       7032 non-null   bool   \n",
      " 15  OnlineSecurity_2                       7032 non-null   bool   \n",
      " 16  OnlineBackup_No internet service       7032 non-null   bool   \n",
      " 17  OnlineBackup_Yes                       7032 non-null   bool   \n",
      " 18  DeviceProtection_1                     7032 non-null   bool   \n",
      " 19  DeviceProtection_2                     7032 non-null   bool   \n",
      " 20  TechSupport_1                          7032 non-null   bool   \n",
      " 21  TechSupport_2                          7032 non-null   bool   \n",
      " 22  StreamingTV_1                          7032 non-null   bool   \n",
      " 23  StreamingTV_2                          7032 non-null   bool   \n",
      " 24  StreamingMovies_1                      7032 non-null   bool   \n",
      " 25  StreamingMovies_2                      7032 non-null   bool   \n",
      " 26  Contract_One year                      7032 non-null   bool   \n",
      " 27  Contract_Two year                      7032 non-null   bool   \n",
      " 28  PaymentMethod_Credit card (automatic)  7032 non-null   bool   \n",
      " 29  PaymentMethod_Electronic check         7032 non-null   bool   \n",
      " 30  PaymentMethod_Mailed check             7032 non-null   bool   \n",
      "dtypes: bool(21), float64(2), int32(1), int64(7)\n",
      "memory usage: 721.1 KB\n"
     ]
    }
   ],
   "source": [
    "df.info()"
   ]
  },
  {
   "cell_type": "code",
   "execution_count": 70,
   "id": "12bea533-3dc9-45cb-8ca5-0332b44397d9",
   "metadata": {},
   "outputs": [],
   "source": [
    "from sklearn.preprocessing import LabelEncoder"
   ]
  },
  {
   "cell_type": "code",
   "execution_count": 132,
   "id": "f517d4fd-5d1e-415c-8c44-4dade347dcfc",
   "metadata": {},
   "outputs": [],
   "source": [
    "# one hot encoding on 2 cate variable \n",
    "label_cols = ['gender', 'Partner', 'Dependents', 'PhoneService', \n",
    "              'PaperlessBilling', 'Churn']\n",
    "\n",
    "le = LabelEncoder()\n",
    "for col in label_cols:\n",
    "    df[col] = le.fit_transform(df[col]) "
   ]
  },
  {
   "cell_type": "code",
   "execution_count": 134,
   "id": "15fb8618-7edd-4f0e-b663-6903f60c17f9",
   "metadata": {},
   "outputs": [
    {
     "ename": "KeyError",
     "evalue": "\"None of [Index(['MultipleLines', 'InternetService', 'OnlineSecurity', 'OnlineBackup',\\n       'DeviceProtection', 'TechSupport', 'StreamingTV', 'StreamingMovies',\\n       'Contract', 'PaymentMethod'],\\n      dtype='object')] are in the [columns]\"",
     "output_type": "error",
     "traceback": [
      "\u001b[1;31m---------------------------------------------------------------------------\u001b[0m",
      "\u001b[1;31mKeyError\u001b[0m                                  Traceback (most recent call last)",
      "Cell \u001b[1;32mIn[134], line 6\u001b[0m\n\u001b[0;32m      1\u001b[0m multi_cat_cols \u001b[38;5;241m=\u001b[39m [\u001b[38;5;124m'\u001b[39m\u001b[38;5;124mMultipleLines\u001b[39m\u001b[38;5;124m'\u001b[39m, \u001b[38;5;124m'\u001b[39m\u001b[38;5;124mInternetService\u001b[39m\u001b[38;5;124m'\u001b[39m, \u001b[38;5;124m'\u001b[39m\u001b[38;5;124mOnlineSecurity\u001b[39m\u001b[38;5;124m'\u001b[39m, \n\u001b[0;32m      2\u001b[0m                   \u001b[38;5;124m'\u001b[39m\u001b[38;5;124mOnlineBackup\u001b[39m\u001b[38;5;124m'\u001b[39m, \u001b[38;5;124m'\u001b[39m\u001b[38;5;124mDeviceProtection\u001b[39m\u001b[38;5;124m'\u001b[39m, \u001b[38;5;124m'\u001b[39m\u001b[38;5;124mTechSupport\u001b[39m\u001b[38;5;124m'\u001b[39m, \n\u001b[0;32m      3\u001b[0m                   \u001b[38;5;124m'\u001b[39m\u001b[38;5;124mStreamingTV\u001b[39m\u001b[38;5;124m'\u001b[39m, \u001b[38;5;124m'\u001b[39m\u001b[38;5;124mStreamingMovies\u001b[39m\u001b[38;5;124m'\u001b[39m, \u001b[38;5;124m'\u001b[39m\u001b[38;5;124mContract\u001b[39m\u001b[38;5;124m'\u001b[39m, \n\u001b[0;32m      4\u001b[0m                   \u001b[38;5;124m'\u001b[39m\u001b[38;5;124mPaymentMethod\u001b[39m\u001b[38;5;124m'\u001b[39m]\n\u001b[1;32m----> 6\u001b[0m df \u001b[38;5;241m=\u001b[39m pd\u001b[38;5;241m.\u001b[39mget_dummies(df, columns\u001b[38;5;241m=\u001b[39mmulti_cat_cols, drop_first\u001b[38;5;241m=\u001b[39m\u001b[38;5;28;01mTrue\u001b[39;00m)\n",
      "File \u001b[1;32m~\\anaconda3\\Lib\\site-packages\\pandas\\core\\reshape\\encoding.py:169\u001b[0m, in \u001b[0;36mget_dummies\u001b[1;34m(data, prefix, prefix_sep, dummy_na, columns, sparse, drop_first, dtype)\u001b[0m\n\u001b[0;32m    167\u001b[0m     \u001b[38;5;28;01mraise\u001b[39;00m \u001b[38;5;167;01mTypeError\u001b[39;00m(\u001b[38;5;124m\"\u001b[39m\u001b[38;5;124mInput must be a list-like for parameter `columns`\u001b[39m\u001b[38;5;124m\"\u001b[39m)\n\u001b[0;32m    168\u001b[0m \u001b[38;5;28;01melse\u001b[39;00m:\n\u001b[1;32m--> 169\u001b[0m     data_to_encode \u001b[38;5;241m=\u001b[39m data[columns]\n\u001b[0;32m    171\u001b[0m \u001b[38;5;66;03m# validate prefixes and separator to avoid silently dropping cols\u001b[39;00m\n\u001b[0;32m    172\u001b[0m \u001b[38;5;28;01mdef\u001b[39;00m \u001b[38;5;21mcheck_len\u001b[39m(item, name: \u001b[38;5;28mstr\u001b[39m):\n",
      "File \u001b[1;32m~\\anaconda3\\Lib\\site-packages\\pandas\\core\\frame.py:4108\u001b[0m, in \u001b[0;36mDataFrame.__getitem__\u001b[1;34m(self, key)\u001b[0m\n\u001b[0;32m   4106\u001b[0m     \u001b[38;5;28;01mif\u001b[39;00m is_iterator(key):\n\u001b[0;32m   4107\u001b[0m         key \u001b[38;5;241m=\u001b[39m \u001b[38;5;28mlist\u001b[39m(key)\n\u001b[1;32m-> 4108\u001b[0m     indexer \u001b[38;5;241m=\u001b[39m \u001b[38;5;28mself\u001b[39m\u001b[38;5;241m.\u001b[39mcolumns\u001b[38;5;241m.\u001b[39m_get_indexer_strict(key, \u001b[38;5;124m\"\u001b[39m\u001b[38;5;124mcolumns\u001b[39m\u001b[38;5;124m\"\u001b[39m)[\u001b[38;5;241m1\u001b[39m]\n\u001b[0;32m   4110\u001b[0m \u001b[38;5;66;03m# take() does not accept boolean indexers\u001b[39;00m\n\u001b[0;32m   4111\u001b[0m \u001b[38;5;28;01mif\u001b[39;00m \u001b[38;5;28mgetattr\u001b[39m(indexer, \u001b[38;5;124m\"\u001b[39m\u001b[38;5;124mdtype\u001b[39m\u001b[38;5;124m\"\u001b[39m, \u001b[38;5;28;01mNone\u001b[39;00m) \u001b[38;5;241m==\u001b[39m \u001b[38;5;28mbool\u001b[39m:\n",
      "File \u001b[1;32m~\\anaconda3\\Lib\\site-packages\\pandas\\core\\indexes\\base.py:6200\u001b[0m, in \u001b[0;36mIndex._get_indexer_strict\u001b[1;34m(self, key, axis_name)\u001b[0m\n\u001b[0;32m   6197\u001b[0m \u001b[38;5;28;01melse\u001b[39;00m:\n\u001b[0;32m   6198\u001b[0m     keyarr, indexer, new_indexer \u001b[38;5;241m=\u001b[39m \u001b[38;5;28mself\u001b[39m\u001b[38;5;241m.\u001b[39m_reindex_non_unique(keyarr)\n\u001b[1;32m-> 6200\u001b[0m \u001b[38;5;28mself\u001b[39m\u001b[38;5;241m.\u001b[39m_raise_if_missing(keyarr, indexer, axis_name)\n\u001b[0;32m   6202\u001b[0m keyarr \u001b[38;5;241m=\u001b[39m \u001b[38;5;28mself\u001b[39m\u001b[38;5;241m.\u001b[39mtake(indexer)\n\u001b[0;32m   6203\u001b[0m \u001b[38;5;28;01mif\u001b[39;00m \u001b[38;5;28misinstance\u001b[39m(key, Index):\n\u001b[0;32m   6204\u001b[0m     \u001b[38;5;66;03m# GH 42790 - Preserve name from an Index\u001b[39;00m\n",
      "File \u001b[1;32m~\\anaconda3\\Lib\\site-packages\\pandas\\core\\indexes\\base.py:6249\u001b[0m, in \u001b[0;36mIndex._raise_if_missing\u001b[1;34m(self, key, indexer, axis_name)\u001b[0m\n\u001b[0;32m   6247\u001b[0m \u001b[38;5;28;01mif\u001b[39;00m nmissing:\n\u001b[0;32m   6248\u001b[0m     \u001b[38;5;28;01mif\u001b[39;00m nmissing \u001b[38;5;241m==\u001b[39m \u001b[38;5;28mlen\u001b[39m(indexer):\n\u001b[1;32m-> 6249\u001b[0m         \u001b[38;5;28;01mraise\u001b[39;00m \u001b[38;5;167;01mKeyError\u001b[39;00m(\u001b[38;5;124mf\u001b[39m\u001b[38;5;124m\"\u001b[39m\u001b[38;5;124mNone of [\u001b[39m\u001b[38;5;132;01m{\u001b[39;00mkey\u001b[38;5;132;01m}\u001b[39;00m\u001b[38;5;124m] are in the [\u001b[39m\u001b[38;5;132;01m{\u001b[39;00maxis_name\u001b[38;5;132;01m}\u001b[39;00m\u001b[38;5;124m]\u001b[39m\u001b[38;5;124m\"\u001b[39m)\n\u001b[0;32m   6251\u001b[0m     not_found \u001b[38;5;241m=\u001b[39m \u001b[38;5;28mlist\u001b[39m(ensure_index(key)[missing_mask\u001b[38;5;241m.\u001b[39mnonzero()[\u001b[38;5;241m0\u001b[39m]]\u001b[38;5;241m.\u001b[39munique())\n\u001b[0;32m   6252\u001b[0m     \u001b[38;5;28;01mraise\u001b[39;00m \u001b[38;5;167;01mKeyError\u001b[39;00m(\u001b[38;5;124mf\u001b[39m\u001b[38;5;124m\"\u001b[39m\u001b[38;5;132;01m{\u001b[39;00mnot_found\u001b[38;5;132;01m}\u001b[39;00m\u001b[38;5;124m not in index\u001b[39m\u001b[38;5;124m\"\u001b[39m)\n",
      "\u001b[1;31mKeyError\u001b[0m: \"None of [Index(['MultipleLines', 'InternetService', 'OnlineSecurity', 'OnlineBackup',\\n       'DeviceProtection', 'TechSupport', 'StreamingTV', 'StreamingMovies',\\n       'Contract', 'PaymentMethod'],\\n      dtype='object')] are in the [columns]\""
     ]
    }
   ],
   "source": [
    "multi_cat_cols = ['MultipleLines', 'InternetService', 'OnlineSecurity', \n",
    "                  'OnlineBackup', 'DeviceProtection', 'TechSupport', \n",
    "                  'StreamingTV', 'StreamingMovies', 'Contract', \n",
    "                  'PaymentMethod']\n",
    "\n",
    "df = pd.get_dummies(df, columns= multi_cat_cols, drop_first=True)\n"
   ]
  },
  {
   "cell_type": "code",
   "execution_count": 78,
   "id": "0fe76b47-50a2-4401-b1fc-c78fbf40f7a9",
   "metadata": {
    "panel-layout": {
     "height": 185452.328125,
     "visible": true,
     "width": 100
    }
   },
   "outputs": [
    {
     "data": {
      "text/html": [
       "<div>\n",
       "<style scoped>\n",
       "    .dataframe tbody tr th:only-of-type {\n",
       "        vertical-align: middle;\n",
       "    }\n",
       "\n",
       "    .dataframe tbody tr th {\n",
       "        vertical-align: top;\n",
       "    }\n",
       "\n",
       "    .dataframe thead th {\n",
       "        text-align: right;\n",
       "    }\n",
       "</style>\n",
       "<table border=\"1\" class=\"dataframe\">\n",
       "  <thead>\n",
       "    <tr style=\"text-align: right;\">\n",
       "      <th></th>\n",
       "      <th>gender</th>\n",
       "      <th>SeniorCitizen</th>\n",
       "      <th>Partner</th>\n",
       "      <th>Dependents</th>\n",
       "      <th>tenure</th>\n",
       "      <th>PhoneService</th>\n",
       "      <th>PaperlessBilling</th>\n",
       "      <th>MonthlyCharges</th>\n",
       "      <th>TotalCharges</th>\n",
       "      <th>Churn</th>\n",
       "      <th>...</th>\n",
       "      <th>TechSupport_2</th>\n",
       "      <th>StreamingTV_1</th>\n",
       "      <th>StreamingTV_2</th>\n",
       "      <th>StreamingMovies_1</th>\n",
       "      <th>StreamingMovies_2</th>\n",
       "      <th>Contract_One year</th>\n",
       "      <th>Contract_Two year</th>\n",
       "      <th>PaymentMethod_Credit card (automatic)</th>\n",
       "      <th>PaymentMethod_Electronic check</th>\n",
       "      <th>PaymentMethod_Mailed check</th>\n",
       "    </tr>\n",
       "  </thead>\n",
       "  <tbody>\n",
       "    <tr>\n",
       "      <th>0</th>\n",
       "      <td>0</td>\n",
       "      <td>0</td>\n",
       "      <td>1</td>\n",
       "      <td>0</td>\n",
       "      <td>1</td>\n",
       "      <td>0</td>\n",
       "      <td>1</td>\n",
       "      <td>29.85</td>\n",
       "      <td>29.85</td>\n",
       "      <td>No</td>\n",
       "      <td>...</td>\n",
       "      <td>False</td>\n",
       "      <td>False</td>\n",
       "      <td>False</td>\n",
       "      <td>False</td>\n",
       "      <td>False</td>\n",
       "      <td>False</td>\n",
       "      <td>False</td>\n",
       "      <td>False</td>\n",
       "      <td>True</td>\n",
       "      <td>False</td>\n",
       "    </tr>\n",
       "    <tr>\n",
       "      <th>1</th>\n",
       "      <td>1</td>\n",
       "      <td>0</td>\n",
       "      <td>0</td>\n",
       "      <td>0</td>\n",
       "      <td>34</td>\n",
       "      <td>1</td>\n",
       "      <td>0</td>\n",
       "      <td>56.95</td>\n",
       "      <td>1889.50</td>\n",
       "      <td>No</td>\n",
       "      <td>...</td>\n",
       "      <td>False</td>\n",
       "      <td>False</td>\n",
       "      <td>False</td>\n",
       "      <td>False</td>\n",
       "      <td>False</td>\n",
       "      <td>True</td>\n",
       "      <td>False</td>\n",
       "      <td>False</td>\n",
       "      <td>False</td>\n",
       "      <td>True</td>\n",
       "    </tr>\n",
       "    <tr>\n",
       "      <th>2</th>\n",
       "      <td>1</td>\n",
       "      <td>0</td>\n",
       "      <td>0</td>\n",
       "      <td>0</td>\n",
       "      <td>2</td>\n",
       "      <td>1</td>\n",
       "      <td>1</td>\n",
       "      <td>53.85</td>\n",
       "      <td>108.15</td>\n",
       "      <td>Yes</td>\n",
       "      <td>...</td>\n",
       "      <td>False</td>\n",
       "      <td>False</td>\n",
       "      <td>False</td>\n",
       "      <td>False</td>\n",
       "      <td>False</td>\n",
       "      <td>False</td>\n",
       "      <td>False</td>\n",
       "      <td>False</td>\n",
       "      <td>False</td>\n",
       "      <td>True</td>\n",
       "    </tr>\n",
       "    <tr>\n",
       "      <th>3</th>\n",
       "      <td>1</td>\n",
       "      <td>0</td>\n",
       "      <td>0</td>\n",
       "      <td>0</td>\n",
       "      <td>45</td>\n",
       "      <td>0</td>\n",
       "      <td>0</td>\n",
       "      <td>42.30</td>\n",
       "      <td>1840.75</td>\n",
       "      <td>No</td>\n",
       "      <td>...</td>\n",
       "      <td>True</td>\n",
       "      <td>False</td>\n",
       "      <td>False</td>\n",
       "      <td>False</td>\n",
       "      <td>False</td>\n",
       "      <td>True</td>\n",
       "      <td>False</td>\n",
       "      <td>False</td>\n",
       "      <td>False</td>\n",
       "      <td>False</td>\n",
       "    </tr>\n",
       "    <tr>\n",
       "      <th>4</th>\n",
       "      <td>0</td>\n",
       "      <td>0</td>\n",
       "      <td>0</td>\n",
       "      <td>0</td>\n",
       "      <td>2</td>\n",
       "      <td>1</td>\n",
       "      <td>1</td>\n",
       "      <td>70.70</td>\n",
       "      <td>151.65</td>\n",
       "      <td>Yes</td>\n",
       "      <td>...</td>\n",
       "      <td>False</td>\n",
       "      <td>False</td>\n",
       "      <td>False</td>\n",
       "      <td>False</td>\n",
       "      <td>False</td>\n",
       "      <td>False</td>\n",
       "      <td>False</td>\n",
       "      <td>False</td>\n",
       "      <td>True</td>\n",
       "      <td>False</td>\n",
       "    </tr>\n",
       "    <tr>\n",
       "      <th>...</th>\n",
       "      <td>...</td>\n",
       "      <td>...</td>\n",
       "      <td>...</td>\n",
       "      <td>...</td>\n",
       "      <td>...</td>\n",
       "      <td>...</td>\n",
       "      <td>...</td>\n",
       "      <td>...</td>\n",
       "      <td>...</td>\n",
       "      <td>...</td>\n",
       "      <td>...</td>\n",
       "      <td>...</td>\n",
       "      <td>...</td>\n",
       "      <td>...</td>\n",
       "      <td>...</td>\n",
       "      <td>...</td>\n",
       "      <td>...</td>\n",
       "      <td>...</td>\n",
       "      <td>...</td>\n",
       "      <td>...</td>\n",
       "      <td>...</td>\n",
       "    </tr>\n",
       "    <tr>\n",
       "      <th>7038</th>\n",
       "      <td>1</td>\n",
       "      <td>0</td>\n",
       "      <td>1</td>\n",
       "      <td>1</td>\n",
       "      <td>24</td>\n",
       "      <td>1</td>\n",
       "      <td>1</td>\n",
       "      <td>84.80</td>\n",
       "      <td>1990.50</td>\n",
       "      <td>No</td>\n",
       "      <td>...</td>\n",
       "      <td>True</td>\n",
       "      <td>False</td>\n",
       "      <td>True</td>\n",
       "      <td>False</td>\n",
       "      <td>True</td>\n",
       "      <td>True</td>\n",
       "      <td>False</td>\n",
       "      <td>False</td>\n",
       "      <td>False</td>\n",
       "      <td>True</td>\n",
       "    </tr>\n",
       "    <tr>\n",
       "      <th>7039</th>\n",
       "      <td>0</td>\n",
       "      <td>0</td>\n",
       "      <td>1</td>\n",
       "      <td>1</td>\n",
       "      <td>72</td>\n",
       "      <td>1</td>\n",
       "      <td>1</td>\n",
       "      <td>103.20</td>\n",
       "      <td>7362.90</td>\n",
       "      <td>No</td>\n",
       "      <td>...</td>\n",
       "      <td>False</td>\n",
       "      <td>False</td>\n",
       "      <td>True</td>\n",
       "      <td>False</td>\n",
       "      <td>True</td>\n",
       "      <td>True</td>\n",
       "      <td>False</td>\n",
       "      <td>True</td>\n",
       "      <td>False</td>\n",
       "      <td>False</td>\n",
       "    </tr>\n",
       "    <tr>\n",
       "      <th>7040</th>\n",
       "      <td>0</td>\n",
       "      <td>0</td>\n",
       "      <td>1</td>\n",
       "      <td>1</td>\n",
       "      <td>11</td>\n",
       "      <td>0</td>\n",
       "      <td>1</td>\n",
       "      <td>29.60</td>\n",
       "      <td>346.45</td>\n",
       "      <td>No</td>\n",
       "      <td>...</td>\n",
       "      <td>False</td>\n",
       "      <td>False</td>\n",
       "      <td>False</td>\n",
       "      <td>False</td>\n",
       "      <td>False</td>\n",
       "      <td>False</td>\n",
       "      <td>False</td>\n",
       "      <td>False</td>\n",
       "      <td>True</td>\n",
       "      <td>False</td>\n",
       "    </tr>\n",
       "    <tr>\n",
       "      <th>7041</th>\n",
       "      <td>1</td>\n",
       "      <td>1</td>\n",
       "      <td>1</td>\n",
       "      <td>0</td>\n",
       "      <td>4</td>\n",
       "      <td>1</td>\n",
       "      <td>1</td>\n",
       "      <td>74.40</td>\n",
       "      <td>306.60</td>\n",
       "      <td>Yes</td>\n",
       "      <td>...</td>\n",
       "      <td>False</td>\n",
       "      <td>False</td>\n",
       "      <td>False</td>\n",
       "      <td>False</td>\n",
       "      <td>False</td>\n",
       "      <td>False</td>\n",
       "      <td>False</td>\n",
       "      <td>False</td>\n",
       "      <td>False</td>\n",
       "      <td>True</td>\n",
       "    </tr>\n",
       "    <tr>\n",
       "      <th>7042</th>\n",
       "      <td>1</td>\n",
       "      <td>0</td>\n",
       "      <td>0</td>\n",
       "      <td>0</td>\n",
       "      <td>66</td>\n",
       "      <td>1</td>\n",
       "      <td>1</td>\n",
       "      <td>105.65</td>\n",
       "      <td>6844.50</td>\n",
       "      <td>No</td>\n",
       "      <td>...</td>\n",
       "      <td>True</td>\n",
       "      <td>False</td>\n",
       "      <td>True</td>\n",
       "      <td>False</td>\n",
       "      <td>True</td>\n",
       "      <td>False</td>\n",
       "      <td>True</td>\n",
       "      <td>False</td>\n",
       "      <td>False</td>\n",
       "      <td>False</td>\n",
       "    </tr>\n",
       "  </tbody>\n",
       "</table>\n",
       "<p>7043 rows × 31 columns</p>\n",
       "</div>"
      ],
      "text/plain": [
       "      gender  SeniorCitizen  Partner  Dependents  tenure  PhoneService  \\\n",
       "0          0              0        1           0       1             0   \n",
       "1          1              0        0           0      34             1   \n",
       "2          1              0        0           0       2             1   \n",
       "3          1              0        0           0      45             0   \n",
       "4          0              0        0           0       2             1   \n",
       "...      ...            ...      ...         ...     ...           ...   \n",
       "7038       1              0        1           1      24             1   \n",
       "7039       0              0        1           1      72             1   \n",
       "7040       0              0        1           1      11             0   \n",
       "7041       1              1        1           0       4             1   \n",
       "7042       1              0        0           0      66             1   \n",
       "\n",
       "      PaperlessBilling  MonthlyCharges  TotalCharges Churn  ...  \\\n",
       "0                    1           29.85         29.85    No  ...   \n",
       "1                    0           56.95       1889.50    No  ...   \n",
       "2                    1           53.85        108.15   Yes  ...   \n",
       "3                    0           42.30       1840.75    No  ...   \n",
       "4                    1           70.70        151.65   Yes  ...   \n",
       "...                ...             ...           ...   ...  ...   \n",
       "7038                 1           84.80       1990.50    No  ...   \n",
       "7039                 1          103.20       7362.90    No  ...   \n",
       "7040                 1           29.60        346.45    No  ...   \n",
       "7041                 1           74.40        306.60   Yes  ...   \n",
       "7042                 1          105.65       6844.50    No  ...   \n",
       "\n",
       "      TechSupport_2  StreamingTV_1  StreamingTV_2  StreamingMovies_1  \\\n",
       "0             False          False          False              False   \n",
       "1             False          False          False              False   \n",
       "2             False          False          False              False   \n",
       "3              True          False          False              False   \n",
       "4             False          False          False              False   \n",
       "...             ...            ...            ...                ...   \n",
       "7038           True          False           True              False   \n",
       "7039          False          False           True              False   \n",
       "7040          False          False          False              False   \n",
       "7041          False          False          False              False   \n",
       "7042           True          False           True              False   \n",
       "\n",
       "      StreamingMovies_2  Contract_One year  Contract_Two year  \\\n",
       "0                 False              False              False   \n",
       "1                 False               True              False   \n",
       "2                 False              False              False   \n",
       "3                 False               True              False   \n",
       "4                 False              False              False   \n",
       "...                 ...                ...                ...   \n",
       "7038               True               True              False   \n",
       "7039               True               True              False   \n",
       "7040              False              False              False   \n",
       "7041              False              False              False   \n",
       "7042               True              False               True   \n",
       "\n",
       "      PaymentMethod_Credit card (automatic)  PaymentMethod_Electronic check  \\\n",
       "0                                     False                            True   \n",
       "1                                     False                           False   \n",
       "2                                     False                           False   \n",
       "3                                     False                           False   \n",
       "4                                     False                            True   \n",
       "...                                     ...                             ...   \n",
       "7038                                  False                           False   \n",
       "7039                                   True                           False   \n",
       "7040                                  False                            True   \n",
       "7041                                  False                           False   \n",
       "7042                                  False                           False   \n",
       "\n",
       "      PaymentMethod_Mailed check  \n",
       "0                          False  \n",
       "1                           True  \n",
       "2                           True  \n",
       "3                          False  \n",
       "4                          False  \n",
       "...                          ...  \n",
       "7038                        True  \n",
       "7039                       False  \n",
       "7040                       False  \n",
       "7041                        True  \n",
       "7042                       False  \n",
       "\n",
       "[7043 rows x 31 columns]"
      ]
     },
     "execution_count": 78,
     "metadata": {},
     "output_type": "execute_result"
    }
   ],
   "source": [
    "df"
   ]
  },
  {
   "cell_type": "code",
   "execution_count": 135,
   "id": "332c9ea3-2f49-4efa-b4ad-df050d021e70",
   "metadata": {
    "panel-layout": {
     "height": 950.9444580078125,
     "visible": true,
     "width": 100
    }
   },
   "outputs": [
    {
     "data": {
      "text/plain": [
       "Index(['gender', 'SeniorCitizen', 'Partner', 'Dependents', 'tenure',\n",
       "       'PhoneService', 'PaperlessBilling', 'MonthlyCharges', 'TotalCharges',\n",
       "       'Churn', 'MultipleLines_No phone service', 'MultipleLines_Yes',\n",
       "       'InternetService_Fiber optic', 'InternetService_No', 'OnlineSecurity_1',\n",
       "       'OnlineSecurity_2', 'OnlineBackup_No internet service',\n",
       "       'OnlineBackup_Yes', 'DeviceProtection_1', 'DeviceProtection_2',\n",
       "       'TechSupport_1', 'TechSupport_2', 'StreamingTV_1', 'StreamingTV_2',\n",
       "       'StreamingMovies_1', 'StreamingMovies_2', 'Contract_One year',\n",
       "       'Contract_Two year', 'PaymentMethod_Credit card (automatic)',\n",
       "       'PaymentMethod_Electronic check', 'PaymentMethod_Mailed check'],\n",
       "      dtype='object')"
      ]
     },
     "execution_count": 135,
     "metadata": {},
     "output_type": "execute_result"
    }
   ],
   "source": [
    "df.columns"
   ]
  },
  {
   "cell_type": "code",
   "execution_count": 145,
   "id": "b51610a3-a345-4106-b69a-51b87601260d",
   "metadata": {
    "panel-layout": {
     "height": 728.138916015625,
     "visible": true,
     "width": 100
    }
   },
   "outputs": [
    {
     "data": {
      "text/plain": [
       "False"
      ]
     },
     "execution_count": 145,
     "metadata": {},
     "output_type": "execute_result"
    }
   ],
   "source": [
    "df.isnull().values.any()"
   ]
  },
  {
   "cell_type": "code",
   "execution_count": 146,
   "id": "361d10c6-1e89-40fc-a0a4-8ae104c163b9",
   "metadata": {
    "panel-layout": {
     "height": 701,
     "visible": true,
     "width": 100
    }
   },
   "outputs": [
    {
     "name": "stdout",
     "output_type": "stream",
     "text": [
      "gender                                   0\n",
      "SeniorCitizen                            0\n",
      "Partner                                  0\n",
      "Dependents                               0\n",
      "tenure                                   0\n",
      "PhoneService                             0\n",
      "PaperlessBilling                         0\n",
      "MonthlyCharges                           0\n",
      "TotalCharges                             0\n",
      "Churn                                    0\n",
      "MultipleLines_No phone service           0\n",
      "MultipleLines_Yes                        0\n",
      "InternetService_Fiber optic              0\n",
      "InternetService_No                       0\n",
      "OnlineSecurity_1                         0\n",
      "OnlineSecurity_2                         0\n",
      "OnlineBackup_No internet service         0\n",
      "OnlineBackup_Yes                         0\n",
      "DeviceProtection_1                       0\n",
      "DeviceProtection_2                       0\n",
      "TechSupport_1                            0\n",
      "TechSupport_2                            0\n",
      "StreamingTV_1                            0\n",
      "StreamingTV_2                            0\n",
      "StreamingMovies_1                        0\n",
      "StreamingMovies_2                        0\n",
      "Contract_One year                        0\n",
      "Contract_Two year                        0\n",
      "PaymentMethod_Credit card (automatic)    0\n",
      "PaymentMethod_Electronic check           0\n",
      "PaymentMethod_Mailed check               0\n",
      "dtype: int64\n"
     ]
    }
   ],
   "source": [
    "print(df.isnull().sum())"
   ]
  },
  {
   "cell_type": "code",
   "execution_count": 148,
   "id": "235372e9-dce5-4344-9b2a-3cf80e2b5ca1",
   "metadata": {},
   "outputs": [],
   "source": [
    "df = df[df['TotalCharges'].notnull()]\n",
    "df = df.dropna(subset=['TotalCharges'])"
   ]
  },
  {
   "cell_type": "code",
   "execution_count": 149,
   "id": "d4172fee-c9bc-4efa-8a74-84e11f219cd6",
   "metadata": {
    "panel-layout": {
     "height": 701,
     "visible": true,
     "width": 100
    }
   },
   "outputs": [
    {
     "name": "stdout",
     "output_type": "stream",
     "text": [
      "gender                                   0\n",
      "SeniorCitizen                            0\n",
      "Partner                                  0\n",
      "Dependents                               0\n",
      "tenure                                   0\n",
      "PhoneService                             0\n",
      "PaperlessBilling                         0\n",
      "MonthlyCharges                           0\n",
      "TotalCharges                             0\n",
      "Churn                                    0\n",
      "MultipleLines_No phone service           0\n",
      "MultipleLines_Yes                        0\n",
      "InternetService_Fiber optic              0\n",
      "InternetService_No                       0\n",
      "OnlineSecurity_1                         0\n",
      "OnlineSecurity_2                         0\n",
      "OnlineBackup_No internet service         0\n",
      "OnlineBackup_Yes                         0\n",
      "DeviceProtection_1                       0\n",
      "DeviceProtection_2                       0\n",
      "TechSupport_1                            0\n",
      "TechSupport_2                            0\n",
      "StreamingTV_1                            0\n",
      "StreamingTV_2                            0\n",
      "StreamingMovies_1                        0\n",
      "StreamingMovies_2                        0\n",
      "Contract_One year                        0\n",
      "Contract_Two year                        0\n",
      "PaymentMethod_Credit card (automatic)    0\n",
      "PaymentMethod_Electronic check           0\n",
      "PaymentMethod_Mailed check               0\n",
      "dtype: int64\n"
     ]
    }
   ],
   "source": [
    "print(df.isnull().sum())"
   ]
  },
  {
   "cell_type": "code",
   "execution_count": 150,
   "id": "1cbf2ce2-39ec-4bcd-9029-c8850db7e190",
   "metadata": {},
   "outputs": [],
   "source": [
    "X = df.drop('Churn', axis=1)\n",
    "y = df['Churn']\n"
   ]
  },
  {
   "cell_type": "code",
   "execution_count": 151,
   "id": "91ed67f5-f46f-4d96-8eb2-f7fdb4e98f6c",
   "metadata": {
    "panel-layout": {
     "height": 701,
     "visible": true,
     "width": 100
    }
   },
   "outputs": [
    {
     "name": "stdout",
     "output_type": "stream",
     "text": [
      "              precision    recall  f1-score   support\n",
      "\n",
      "           0       0.82      0.90      0.86      1033\n",
      "           1       0.63      0.47      0.54       374\n",
      "\n",
      "    accuracy                           0.78      1407\n",
      "   macro avg       0.73      0.68      0.70      1407\n",
      "weighted avg       0.77      0.78      0.77      1407\n",
      "\n"
     ]
    }
   ],
   "source": [
    "from sklearn.model_selection import train_test_split\n",
    "from sklearn.ensemble import RandomForestClassifier\n",
    "from sklearn.metrics import classification_report\n",
    "\n",
    "# Split\n",
    "X_train, X_test, y_train, y_test = train_test_split(X, y, test_size=0.2, random_state=42)\n",
    "\n",
    "# Model\n",
    "model = RandomForestClassifier()\n",
    "model.fit(X_train, y_train)\n",
    "\n",
    "# Predict\n",
    "y_pred = model.predict(X_test)\n",
    "\n",
    "# Evaluate\n",
    "print(classification_report(y_test, y_pred))\n"
   ]
  },
  {
   "cell_type": "code",
   "execution_count": 152,
   "id": "be2985f8-139c-4d72-8862-875754e03f09",
   "metadata": {
    "panel-layout": {
     "height": 701,
     "visible": true,
     "width": 100
    }
   },
   "outputs": [
    {
     "name": "stdout",
     "output_type": "stream",
     "text": [
      "Accuracy: 0.7846481876332623\n",
      "              precision    recall  f1-score   support\n",
      "\n",
      "           0       0.82      0.90      0.86      1033\n",
      "           1       0.63      0.47      0.54       374\n",
      "\n",
      "    accuracy                           0.78      1407\n",
      "   macro avg       0.73      0.68      0.70      1407\n",
      "weighted avg       0.77      0.78      0.77      1407\n",
      "\n",
      "[[928 105]\n",
      " [198 176]]\n"
     ]
    }
   ],
   "source": [
    "from sklearn.metrics import accuracy_score, classification_report, confusion_matrix\n",
    "\n",
    "# Assuming y_test = true values, y_pred = predicted values\n",
    "accuracy = accuracy_score(y_test, y_pred)\n",
    "print(\"Accuracy:\", accuracy)\n",
    "\n",
    "# Detailed performance\n",
    "print(classification_report(y_test, y_pred))\n",
    "print(confusion_matrix(y_test, y_pred))\n"
   ]
  },
  {
   "cell_type": "code",
   "execution_count": null,
   "id": "885fa50b-66b2-4867-8e62-d1247fbed499",
   "metadata": {},
   "outputs": [],
   "source": [
    "# High precision (0.82) and recall (0.90) — model confidently and correctly identifies most of the loyal customers.\n",
    "\n",
    "# Significantly better performance on \"Churn\"\n",
    "# Precision = 0.63 → Over 60% of churn predictions are correct.\n",
    "\n",
    "# Recall = 0.47 → Nearly half of actual churners are detected (much better than your earlier ~0.18).\n",
    "\n",
    "# F1-score = 0.54 → Decent balance between precision and recall.\n",
    "\n",
    "# Overall accuracy = 78%\n",
    "# This is strong, especially for a churn prediction problem (which is often imbalanced).\n",
    "\n"
   ]
  },
  {
   "cell_type": "code",
   "execution_count": 153,
   "id": "0caa5904-7b8b-40b3-99ba-3dc0eb9006e3",
   "metadata": {},
   "outputs": [],
   "source": [
    "y_probs = model.predict_proba(X_test)[:, 1]  # Probabilities for class 1 (Churn)\n"
   ]
  },
  {
   "cell_type": "code",
   "execution_count": 154,
   "id": "f03cee14-5b5b-401c-be91-0b4352182d16",
   "metadata": {
    "panel-layout": {
     "height": 701,
     "visible": true,
     "width": 100
    }
   },
   "outputs": [
    {
     "name": "stdout",
     "output_type": "stream",
     "text": [
      "AUC Score: 0.8153358941041876\n"
     ]
    }
   ],
   "source": [
    "from sklearn.metrics import roc_auc_score\n",
    "\n",
    "auc = roc_auc_score(y_test, y_probs)\n",
    "print(\"AUC Score:\", auc)\n"
   ]
  },
  {
   "cell_type": "code",
   "execution_count": 155,
   "id": "e51fef05-7027-4173-816d-cb45f814533d",
   "metadata": {
    "panel-layout": {
     "height": 874,
     "visible": true,
     "width": 100
    }
   },
   "outputs": [
    {
     "data": {
      "image/png": "[encoded data removed]",
      "text/plain": [
       "<Figure size 800x600 with 1 Axes>"
      ]
     },
     "metadata": {},
     "output_type": "display_data"
    }
   ],
   "source": [
    "from sklearn.metrics import roc_curve\n",
    "import matplotlib.pyplot as plt\n",
    "\n",
    "# Get false positive rate, true positive rate\n",
    "fpr, tpr, thresholds = roc_curve(y_test, y_probs)\n",
    "\n",
    "# Plot\n",
    "plt.figure(figsize=(8,6))\n",
    "plt.plot(fpr, tpr, label=f'AUC = {auc:.2f}', color='darkorange')\n",
    "plt.plot([0, 1], [0, 1], 'k--')  # Diagonal line\n",
    "plt.xlabel('False Positive Rate')\n",
    "plt.ylabel('True Positive Rate')\n",
    "plt.title('ROC Curve')\n",
    "plt.legend()\n",
    "plt.grid()\n",
    "plt.show()\n"
   ]
  },
  {
   "cell_type": "code",
   "execution_count": null,
   "id": "07397ca4-eba2-4fe9-ad1d-f7bcc7a88630",
   "metadata": {},
   "outputs": [],
   "source": []
  },
  {
   "cell_type": "markdown",
   "id": "0fe725c2-04bf-4f37-a5e7-b6bd42c9f39c",
   "metadata": {
    "panel-layout": {
     "height": 60.583335876464844,
     "visible": true,
     "width": 100
    }
   },
   "source": [
    "# Business insights "
   ]
  },
  {
   "cell_type": "markdown",
   "id": "5983121f-1206-499f-950b-43cc55d4b56e",
   "metadata": {
    "panel-layout": {
     "height": 43.1944465637207,
     "visible": true,
     "width": 100
    }
   },
   "source": [
    "#### 1. Customers on Month-to-Month Contracts Churn More"
   ]
  },
  {
   "cell_type": "markdown",
   "id": "d1d36d22-b6fd-49c2-96d9-e5ef26560a1d",
   "metadata": {
    "panel-layout": {
     "height": 43.1944465637207,
     "visible": true,
     "width": 100
    }
   },
   "source": [
    "#### 2. Fiber Optic Users Churn More Than DSL Users"
   ]
  },
  {
   "cell_type": "markdown",
   "id": "dce882ba-93ad-4aec-8d7b-b6b15294781e",
   "metadata": {
    "panel-layout": {
     "height": 43.1944465637207,
     "visible": true,
     "width": 100
    }
   },
   "source": [
    "#### 3. Higher Monthly Charges Correlate with Higher Churn"
   ]
  },
  {
   "cell_type": "markdown",
   "id": "fda44251-f956-4321-b5e9-11ab7a98d657",
   "metadata": {
    "panel-layout": {
     "height": 43.1944465637207,
     "visible": true,
     "width": 100
    }
   },
   "source": [
    "#### 4. Tenure Strongly Impacts Churn\n"
   ]
  },
  {
   "cell_type": "markdown",
   "id": "02129b9d-2cf2-4e34-aca9-09c8336dcd96",
   "metadata": {
    "panel-layout": {
     "height": 43.1944465637207,
     "visible": true,
     "width": 100
    }
   },
   "source": [
    "#### 5. Model AUC Score of 0.82 Indicates High Predictive Power"
   ]
  },
  {
   "cell_type": "code",
   "execution_count": 122,
   "id": "07433e6e-eaa8-47f7-b18e-c1e637c5ef23",
   "metadata": {},
   "outputs": [],
   "source": []
  },
  {
   "cell_type": "markdown",
   "id": "745aa9e6-5b59-45e2-a95f-7a213b742cf2",
   "metadata": {
    "panel-layout": {
     "height": 60.583335876464844,
     "visible": true,
     "width": 100
    }
   },
   "source": [
    "# Actionable Recommendations to Reduce Churn"
   ]
  },
  {
   "cell_type": "markdown",
   "id": "6814ef99-f4df-4797-ab3e-182dfeafb6ee",
   "metadata": {
    "panel-layout": {
     "height": 43.1944465637207,
     "visible": true,
     "width": 100
    }
   },
   "source": [
    "#### 1. Promote Long-Term Contracts"
   ]
  },
  {
   "cell_type": "markdown",
   "id": "7746aa39-1ed4-4a7c-8dc7-b75190241d7b",
   "metadata": {
    "panel-layout": {
     "height": 43.1944465637207,
     "visible": true,
     "width": 100
    }
   },
   "source": [
    "#### 2. Review Pricing Strategy for High Monthly Charge Users"
   ]
  },
  {
   "cell_type": "markdown",
   "id": "57732a88-2d87-4567-8a69-89a8d5a04816",
   "metadata": {
    "panel-layout": {
     "height": 43.1944465637207,
     "visible": true,
     "width": 100
    }
   },
   "source": [
    "#### 3. Launch Targeted Programs for Senior Citizens"
   ]
  },
  {
   "cell_type": "markdown",
   "id": "b627aacc-6a12-4e19-bcf6-d5105ce123bf",
   "metadata": {
    "panel-layout": {
     "height": 133.86111450195312,
     "visible": true,
     "width": 100
    }
   },
   "source": [
    "#### 4. Use Predictive Model for Proactive Retention\n",
    "##### a) With a high AUC (0.82), the model is reliable to flag at-risk customers.\n",
    "##### b) Use model output to:\n",
    "##### c) Segment high-risk customers\n",
    "##### d) Launch proactive engagement (calls, offers, surveys)\n",
    "\n",
    "\n"
   ]
  }
 ],
 "metadata": {
  "kernelspec": {
   "display_name": "Python [conda env:base] *",
   "language": "python",
   "name": "conda-base-py"
  },
  "language_info": {
   "codemirror_mode": {
    "name": "ipython",
    "version": 3
   },
   "file_extension": ".py",
   "mimetype": "text/x-python",
   "name": "python",
   "nbconvert_exporter": "python",
   "pygments_lexer": "ipython3",
   "version": "3.12.7"
  },
  "panel-cell-order": [
   "6dd856c2-7cd1-4d91-ae9b-e2a20348ad00",
   "7dbf92ef-4552-4050-ae73-83fb22fd550f",
   "a0f6de6d-c473-4680-9fbb-b35663a07002",
   "325447b4-eb67-4558-9fbe-3c21479593dc",
   "ed45d79e-2501-4ce4-ab86-149bc2ac6519",
   "91f838ca-2eec-4952-843c-6a0927d83f76",
   "9e1cfc2c-e7ca-4021-8a60-58b85eb68560",
   "8172610f-b541-441e-89d5-dcb1ba6c8a17",
   "76622192-849f-4e67-89d6-2662f608e656",
   "2b54a5c0-f9cc-41d7-b569-d3135d27ad3a",
   "cf2b3ce4-20ec-4983-a777-fa19aa7c761c",
   "648c953c-2cfe-4999-a156-279cd928475d",
   "4a4429b2-2ab1-4c5b-8843-edab8f079cd7",
   "4aa31ac8-a9ac-4c0a-a0ce-7038ad7fb037",
   "0b347ae9-038c-41a1-9873-36133282702f",
   "e6d16473-57dd-4bc4-8ca1-5383088dc31f",
   "94f4e649-0b65-44f2-96d5-b4e419205e29",
   "e0654dfc-cd12-4b0d-9a04-da2396126226",
   "17295d30-f5e3-4223-8784-d2e974691cc4",
   "c1b274db-7da7-408b-8930-ebe6f6ec7f31",
   "4a94db7e-57bb-4698-b73d-73f7a1f4f227",
   "a7f433b1-aa6f-40d2-98a8-99dd07cf0787",
   "23d7d5f1-afe4-4883-9742-7a4f262deeac",
   "9c858cc9-4bb7-43c7-b6ba-a6a0aa49890a",
   "2af8b80c-3eb3-4271-9714-81c2cea35e40",
   "1cb76a3f-b0aa-4b90-b956-fe050fe1969d",
   "7ecf2bda-716e-4f7f-add6-841f6b6acc11",
   "cb5cc7b3-19dd-4fb2-b963-e7a5f4152662",
   "9e2cdd2f-7e41-4107-a9f5-1ed91e4911ca",
   "77a7bde0-8c8e-4983-bb4b-3833fc5c6b54",
   "0fe76b47-50a2-4401-b1fc-c78fbf40f7a9",
   "332c9ea3-2f49-4efa-b4ad-df050d021e70",
   "b51610a3-a345-4106-b69a-51b87601260d",
   "361d10c6-1e89-40fc-a0a4-8ae104c163b9",
   "d4172fee-c9bc-4efa-8a74-84e11f219cd6",
   "91ed67f5-f46f-4d96-8eb2-f7fdb4e98f6c",
   "be2985f8-139c-4d72-8862-875754e03f09",
   "f03cee14-5b5b-401c-be91-0b4352182d16",
   "e51fef05-7027-4173-816d-cb45f814533d",
   "0fe725c2-04bf-4f37-a5e7-b6bd42c9f39c",
   "5983121f-1206-499f-950b-43cc55d4b56e",
   "d1d36d22-b6fd-49c2-96d9-e5ef26560a1d",
   "dce882ba-93ad-4aec-8d7b-b6b15294781e",
   "fda44251-f956-4321-b5e9-11ab7a98d657",
   "02129b9d-2cf2-4e34-aca9-09c8336dcd96",
   "745aa9e6-5b59-45e2-a95f-7a213b742cf2",
   "6814ef99-f4df-4797-ab3e-182dfeafb6ee",
   "7746aa39-1ed4-4a7c-8dc7-b75190241d7b",
   "57732a88-2d87-4567-8a69-89a8d5a04816",
   "b627aacc-6a12-4e19-bcf6-d5105ce123bf"
  ]
 },
 "nbformat": 4,
 "nbformat_minor": 5
}
